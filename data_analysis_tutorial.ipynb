{
  "nbformat": 4,
  "nbformat_minor": 0,
  "metadata": {
    "colab": {
      "name": "data_analysis_tutorial.ipynb",
      "provenance": [],
      "authorship_tag": "ABX9TyMkV35wwU4lnLh9bowOy/9H",
      "include_colab_link": true
    },
    "kernelspec": {
      "name": "python3",
      "display_name": "Python 3"
    },
    "language_info": {
      "name": "python"
    }
  },
  "cells": [
    {
      "cell_type": "markdown",
      "metadata": {
        "id": "view-in-github",
        "colab_type": "text"
      },
      "source": [
        "<a href=\"https://colab.research.google.com/github/qudsiramiz/csp_datanalysis/blob/main/data_analysis_tutorial.ipynb\" target=\"_parent\"><img src=\"https://colab.research.google.com/assets/colab-badge.svg\" alt=\"Open In Colab\"/></a>"
      ]
    },
    {
      "cell_type": "markdown",
      "metadata": {
        "id": "a537Fx5Pf1zN"
      },
      "source": [
        "# Install geopack ([details here](https://pypi.org/project/geopack/))"
      ]
    },
    {
      "cell_type": "code",
      "metadata": {
        "colab": {
          "base_uri": "https://localhost:8080/"
        },
        "id": "DK_Z1BiKfr7t",
        "outputId": "b4d33a30-826a-4d64-f18c-e5a430f931c5"
      },
      "source": [
        "!pip install geopack"
      ],
      "execution_count": null,
      "outputs": [
        {
          "output_type": "stream",
          "name": "stdout",
          "text": [
            "Requirement already satisfied: geopack in /usr/local/lib/python3.7/dist-packages (1.0.8)\n"
          ]
        }
      ]
    },
    {
      "cell_type": "markdown",
      "metadata": {
        "id": "T_eIzkIv2rgM"
      },
      "source": [
        "## Install all Latex dependencies"
      ]
    },
    {
      "cell_type": "code",
      "metadata": {
        "id": "N1R5s7v0yWRm"
      },
      "source": [
        "%%time\n",
        "!sudo apt-get install aptitude\n",
        "!sudo aptitude install texlive-fonts-recommended texlive-fonts-extra\n",
        "!pip install tex\n",
        "!sudo apt-get -y install texlive-full\n",
        "!sudo apt-get install dvipng\n",
        "!sudo apt-get install --fix-missing\n",
        "!sudo apt-get update\n",
        "clear_output()"
      ],
      "execution_count": null,
      "outputs": []
    },
    {
      "cell_type": "code",
      "metadata": {
        "id": "QwMOHCRXye8u"
      },
      "source": [
        "font = { 'family' : 'Times New Roman', 'weight' : 'normal', 'size' : 10 }\n",
        "plt.rc( 'font', **font )\n",
        "plt.rc('text', usetex=True)"
      ],
      "execution_count": null,
      "outputs": []
    },
    {
      "cell_type": "markdown",
      "metadata": {
        "id": "rjSp8Ua7gsyf"
      },
      "source": [
        "# Import the required package and call the functions"
      ]
    },
    {
      "cell_type": "code",
      "metadata": {
        "colab": {
          "base_uri": "https://localhost:8080/"
        },
        "id": "XcggocJngsRq",
        "outputId": "d501879b-8883-40b7-ee61-365eb6c7aa01"
      },
      "source": [
        "import geopack\n",
        "from geopack import geopack\n",
        "from geopack.t96 import t96\n",
        "import numpy as np\n",
        "from dateutil import parser\n",
        "import datetime\n",
        "import matplotlib.pyplot as plt\n",
        "import matplotlib as mpl"
      ],
      "execution_count": null,
      "outputs": [
        {
          "output_type": "stream",
          "name": "stdout",
          "text": [
            "Load IGRF coefficients ...\n"
          ]
        }
      ]
    },
    {
      "cell_type": "code",
      "metadata": {
        "id": "lAzFADRBg1oi"
      },
      "source": [
        "geopack?"
      ],
      "execution_count": null,
      "outputs": []
    },
    {
      "cell_type": "code",
      "metadata": {
        "id": "PKRkMfrpf3pJ"
      },
      "source": [
        "# Define time\n",
        "time = '2016-12-24 15:08'"
      ],
      "execution_count": null,
      "outputs": []
    },
    {
      "cell_type": "code",
      "metadata": {
        "colab": {
          "base_uri": "https://localhost:8080/"
        },
        "id": "z7jMPWejhtZ7",
        "outputId": "9ca3600b-40b7-4a98-cbbb-2bcec86bb836"
      },
      "source": [
        "time_utc = parser.parse(time)\n",
        "time_unix = time_utc.timestamp()\n",
        "time_unix"
      ],
      "execution_count": null,
      "outputs": [
        {
          "output_type": "execute_result",
          "data": {
            "text/plain": [
              "1482592080.0"
            ]
          },
          "metadata": {},
          "execution_count": 13
        }
      ]
    },
    {
      "cell_type": "code",
      "metadata": {
        "id": "zcxzhvkah3Ux"
      },
      "source": [
        "# Compute the \n",
        "xgsm,ygsm,zgsm = [1,2,3] # in radius of earth units\n",
        "ps = geopack.recalc(time_unix) # dipole tilt angle of the earth\n",
        "\n",
        "# Compute the dipole field\n",
        "b0xgsm,b0ygsm,b0zgsm = geopack.dip(xgsm,ygsm,zgsm)"
      ],
      "execution_count": null,
      "outputs": []
    },
    {
      "cell_type": "code",
      "metadata": {
        "colab": {
          "base_uri": "https://localhost:8080/"
        },
        "id": "iMH8cUn4h4gh",
        "outputId": "c0a9937c-8182-44da-f251-e683a9f55149"
      },
      "source": [
        "b0xgsm, b0ygsm, b0zgsm"
      ],
      "execution_count": null,
      "outputs": [
        {
          "output_type": "execute_result",
          "data": {
            "text/plain": [
              "(-467.8721390407777, -646.5015441840932, -418.7106595944902)"
            ]
          },
          "metadata": {},
          "execution_count": 16
        }
      ]
    },
    {
      "cell_type": "markdown",
      "metadata": {
        "id": "jurW3gcslka6"
      },
      "source": [
        "#### The magnetospheric magnetic field is a combination of internal magnetic field, comuted using IGRF model, and external magnetic field, computed using T96 model in Geopack.\n",
        "$R_E$\n",
        "Way to call the two models and inputs required:\n",
        "\n",
        "*   IGRF model:\n",
        "\n",
        "    a) [x, y, z] in GSM coordinate in units of $R_E$\n",
        "\n",
        "    b) Call the model using ```geopack.igrf_gsm(x, y, z)```\n",
        "\n",
        "\n",
        "*   T96 model:\n",
        "\n",
        "    a) Input parameter:\n",
        "\n",
        "       (i) [x, y, z] in GSM coordinate in units of $R_E$.\n",
        "\n",
        "       (ii) Solar wind ram pressure in nPa (```p_dyn```). ($P = m_p \\cdot n_p \\cdot V_p^2 = 1.6726 \\times 10^{-6} \\cdot n_p \\cdot V_p^2$ nPa)\n",
        "\n",
        "       (iii) DST index (```dst```)\n",
        "\n",
        "       (iv) Dipole tilt angle (```ps```)\n",
        "\n",
        "       (v) y- and z-component of IMF ($\\vec{B}_{\\rm{imf}} \\cdot \\hat{y}$, and \n",
        "\n",
        "       $\\vec{B}_{\\rm{imf}} \\cdot \\hat{z}$) (```b_imf_y, b_imf_z```)\n",
        "\n",
        "    b) Define a ```param``` parameter as ```param = [p_dyn, dst, b_imf_y, b_imf_z, 0, 0, 0, 0, 0, 0]``` (the 6 zeros at the end is for some progmatic reasons).\n",
        "\n",
        "    c) Call the model using ```t96(param, ps, x, y, z)```"
      ]
    },
    {
      "cell_type": "code",
      "metadata": {
        "id": "DbYSw8WQsNUP"
      },
      "source": [
        "time = '2016-12-24 15:08'\n",
        "time_utc = parser.parse(time)\n",
        "time_unix = time_utc.timestamp()\n",
        "\n",
        "ps = geopack.recalc(time_unix) # Compute the dipole tilt angle"
      ],
      "execution_count": null,
      "outputs": []
    },
    {
      "cell_type": "code",
      "metadata": {
        "id": "GDwQkEWytOZm"
      },
      "source": [
        "n_p = 5 # /cm^{-3}\n",
        "v_p = 500 # km/s\n",
        "b_imf_x = -5 # nT\n",
        "b_imf_y = 2 # nT\n",
        "b_imf_z = 1 # nT\n",
        "\n",
        "dst = -20\n",
        "\n",
        "p_dyn = 1.6726e-6 * n_p * v_p**2 # nPa"
      ],
      "execution_count": null,
      "outputs": []
    },
    {
      "cell_type": "code",
      "metadata": {
        "id": "Z6iHcFwsl1fV"
      },
      "source": [
        "n_arr = 160\n",
        "bx_igrf = np.full((n_arr, n_arr), np.nan)\n",
        "by_igrf = np.full((n_arr, n_arr), np.nan)\n",
        "bz_igrf = np.full((n_arr, n_arr), np.nan)\n",
        "\n",
        "bx_t96 = np.full((n_arr, n_arr), np.nan)\n",
        "by_t96 = np.full((n_arr, n_arr), np.nan)\n",
        "bz_t96 = np.full((n_arr, n_arr), np.nan)\n",
        "\n",
        "bx = np.full((n_arr, n_arr), np.nan)\n",
        "by = np.full((n_arr, n_arr), np.nan)\n",
        "bz = np.full((n_arr, n_arr), np.nan)\n",
        "\n",
        "x_arr = 10\n",
        "y_arr = np.linspace(-40, 40, n_arr)\n",
        "z_arr = np.linspace(-40, 40, n_arr)\n",
        "\n",
        "param = [p_dyn, dst, b_imf_y, b_imf_z, 0, 0, 0, 0, 0, 0]\n",
        "\n",
        "for (j,y) in enumerate(y_arr):\n",
        "    for (k,z) in enumerate(z_arr):\n",
        "        bx_igrf[j, k], by_igrf[j, k], bz_igrf[j, k] = geopack.igrf_gsm(x_arr, y, z)\n",
        "        bx_t96[j, k], by_t96[j, k], bz_t96[j, k] = t96(param, ps, x_arr, y, z)\n",
        "\n",
        "        bx[j, k] = bx_t96[j, k] + bx_igrf[j, k]\n",
        "        by[j, k] = by_t96[j, k] + by_igrf[j, k]\n",
        "        bz[j, k] = bz_t96[j, k] + bz_igrf[j, k]"
      ],
      "execution_count": null,
      "outputs": []
    },
    {
      "cell_type": "code",
      "metadata": {
        "id": "mSSkbnzXt-Gc"
      },
      "source": [
        "from mpl_toolkits.axes_grid1 import make_axes_locatable\n",
        "import matplotlib.patches as patches"
      ],
      "execution_count": null,
      "outputs": []
    },
    {
      "cell_type": "code",
      "metadata": {
        "colab": {
          "base_uri": "https://localhost:8080/"
        },
        "id": "oejISKdqxEYc",
        "outputId": "3c7451fe-1d89-4c76-b4e0-f3fc9ba06f21"
      },
      "source": [
        "np.nanmin(bx)"
      ],
      "execution_count": null,
      "outputs": [
        {
          "output_type": "execute_result",
          "data": {
            "text/plain": [
              "-22867310104333.86"
            ]
          },
          "metadata": {},
          "execution_count": 29
        }
      ]
    },
    {
      "cell_type": "code",
      "metadata": {
        "id": "hbPJDgnDq5CQ"
      },
      "source": [
        "cmap = plt.cm.viridis\n",
        "\n",
        "pad = 0.02\n",
        "clabelpad = 10\n",
        "labelsize = 18\n",
        "ticklabelsize = 15\n",
        "cticklabelsize = 15\n",
        "clabelsize = 15\n",
        "ticklength = 3\n",
        "tickwidth = 1.5\n",
        "ticklength = 6\n",
        "mticklength = 4\n",
        "cticklength = 5\n",
        "mcticklength = 4\n",
        "labelrotation = 0"
      ],
      "execution_count": null,
      "outputs": []
    },
    {
      "cell_type": "code",
      "metadata": {
        "colab": {
          "base_uri": "https://localhost:8080/",
          "height": 780
        },
        "id": "5PMLNN7zq7rp",
        "outputId": "b3dbfc6f-2de5-4038-e99f-b9197597b504"
      },
      "source": [
        "# Define the figure\n",
        "fig = plt.figure(num=None, figsize=(3, 3), dpi=200, facecolor='w', edgecolor='gray')\n",
        "fig.subplots_adjust(left=0.01, right=0.95, top=0.99, bottom=0.01, wspace=0.02, hspace=0.)\n",
        "\n",
        "comp = bz\n",
        "\n",
        "# Define the colorbar norm\n",
        "norm = mpl.colors.Normalize(vmin=np.nanmin(comp), vmax=np.nanmax(comp))\n",
        "\n",
        "# Define the axes in the figure\n",
        "axs1 = fig.add_subplot(1, 1, 1)\n",
        "\n",
        "im1 = axs1.pcolormesh(y_arr, z_arr, np.transpose(comp), alpha=0.9, shading='auto', cmap=cmap,\n",
        "                      norm=norm)\n",
        "patch = patches.Circle((0, 0), radius=10, transform=axs1.transData)\n",
        "im1.set_clip_path(patch)\n",
        "\n",
        "axs1.set_xlim(-15, 15)\n",
        "axs1.set_ylim(-15, 15)\n",
        "\n",
        "axs1.set_xlabel( r'$\\mathrm{y_{GSM}} ( R_E )$', fontsize=14 )\n",
        "axs1.set_ylabel( r'$\\mathrm{z_{GSM}} ( R_E )$', fontsize=14 )\n",
        "\n",
        "# Create a new axis for colorbar\n",
        "divider1 = make_axes_locatable(axs1)\n",
        "\n",
        "cax1 = divider1.append_axes(\"top\", size=\"5%\", pad=0.01 )\n",
        "cbar1 = plt.colorbar(im1, cax=cax1, orientation='horizontal', ticks=None, fraction=0.05, pad=0.01)\n",
        "\n",
        "cbar1.ax.xaxis.set_label_position('top')\n",
        "cbar1.ax.tick_params(axis='x', direction='in', labeltop=True, labelbottom=False, color='k',top=True,\n",
        "                     bottom=True)"
      ],
      "execution_count": null,
      "outputs": [
        {
          "output_type": "display_data",
          "data": {
            "image/png": "[encoded data removed]",
            "text/plain": [
              "<Figure size 600x600 with 2 Axes>"
            ]
          },
          "metadata": {}
        }
      ]
    },
    {
      "cell_type": "code",
      "metadata": {
        "id": "ZDWghBRGrP1x"
      },
      "source": [
        ""
      ],
      "execution_count": null,
      "outputs": []
    }
  ]
}