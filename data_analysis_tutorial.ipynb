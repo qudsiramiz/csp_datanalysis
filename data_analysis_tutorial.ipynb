{
  "nbformat": 4,
  "nbformat_minor": 0,
  "metadata": {
    "colab": {
      "name": "data_analysis_tutorial.ipynb",
      "provenance": [],
      "authorship_tag": "ABX9TyPJqXIS1SZpbus5x4ggj3Ki",
      "include_colab_link": true
    },
    "kernelspec": {
      "name": "python3",
      "display_name": "Python 3"
    },
    "language_info": {
      "name": "python"
    }
  },
  "cells": [
    {
      "cell_type": "markdown",
      "metadata": {
        "id": "view-in-github",
        "colab_type": "text"
      },
      "source": [
        "<a href=\"https://colab.research.google.com/github/qudsiramiz/csp_datanalysis/blob/main/data_analysis_tutorial.ipynb\" target=\"_parent\"><img src=\"https://colab.research.google.com/assets/colab-badge.svg\" alt=\"Open In Colab\"/></a>"
      ]
    },
    {
      "cell_type": "markdown",
      "metadata": {
        "id": "j1o5ClOU5R6a"
      },
      "source": [
        "QR code for the GitHub repository\n",
        "\n",
        "![qr_code_csp_data_analysis.png](data:image/png;base64,iVBORw0KGgoAAAANSUhEUgAAAPoAAADyCAYAAABkv9hQAAAAAXNSR0IArs4c6QAAAARnQU1BAACxjwv8YQUAAAAJcEhZcwAADsMAAA7DAcdvqGQAAC0NSURBVHhe7Z0J3Bfz9sfHrkiWR4ooLVKKUpRWrpK9tFyRm3AlqRuXLJVUwkUuIiFLy7W8kiW7LMmari4tSChLl7p/qidrRc9/PtOZnt8zc75nnt/Mb37bnPfrdWq+3998Z+Y3M2fm98xnzjnblNlYiqLkNSY33bx5M01tmcedD///8ccfW//f1ulVFKWo2Ow6vPOvpY6uKPmO6W4u4hmjjq4oBYr3ApDa3jpt/48pdXRFKVAqc6fHPPg7Xh1dUYqAVKdPfUDnoo6uKEWM4/72RUAdXVGKDPfe7j55B+roipLHVObvcJA6HzdGHV1RCpB0LwCh34ybP38+TRU+e+21l1W/fn1q+fnss8+s2bNnszv3jTfesDp27EitcrbZZhvrmGOOsZo0aUI9+cN///tfa9asWexDm3nz5llt2rShVkWOOuooq2XLltTKLFjvwoULrU2bNlHPFrDPmzZt6uxLE//3f/9nrVixglqFz6GHHmrtvPPOzrTJPdGf+lnqsfz999+d//FGHH6+/4G2PXParFy5EmsoGhs3bhx9M57mzZuz42BHH3002w9r2LAhLSG/kLbZvmix/bCSkhJaQuYZNWoUu07YgAEDaC6eiy66iB1XqPb999/TNysrsx2YNduZK9jGjRu32i+//OLYjz/+WFa6fn3ZmjVryvSneyX49ttvaSo9cOfMR7777juaSg/7BLR+++03amUW/GoygTu9Eg11dEUpUvDno4s6uqIUEfavfZraguvq6uiKUmSk3sldt1dHjxnvFbbQietv9N12242m/Oy77740paQLXB6Or45eCU477TSaSo9evXpVuLpmms2MPFaZC8spp5xCU+nRo0cPa/fdd6dWZmnRooXVoEEDapUD2bNt27bUUkKDR/jpEiSv5SOSpBQkrwFIFZs2bfLZunXr2P7169fTyHiYMGFC2fbbb8/anXfeSXOZ+emnn9jt/vXXX9n+ynyf5557rqx79+6+7WnTpk2l9jHwrrcySPIajns+wm2ra1HktQ0bNjjHEPIajjGO29q1a1Veqyy77rqrZZ+0PqtevTrbX61aNRoZD7ZTOS9GcIbPgthll13Y7caLGlx/Zb7Pm2++aT311FO+7cHLMCNHjqS5ZLzrVTKDOrqSFWrWrElTSi5QR1eUYsV9PqQP4xSluMHDYLi7OrqiFBtwbo/ao45eoGzyRHnlAwcffDBN+fnpp59oSomTVAdPdfVQYaoI1qhduza1/EiLHDZsGE1lnptvvpmm/CDM8fXXX6dWRcaNG2eNGDGCWn6++uora/HixdQqB0+oO3fuTK30wRPp1157zdq4cSP1lPPDDz9YS5YsoVZF1q9fb61evdrac889qaciUAgmTJhALT+rVq2yFixY4DtOO+64o3Xsscda2223HfWkB4JlZs6caW3YsIF6toBwyQ4dOoh6OMbg+HgvYNtuu60TNmv6rmDw4MHWxIkTqVWRo48+2pozZw61/MR1Ph544IHWoEGDqOVHer8CwUMInQYmX9rseYcitY1pjMP/sD/wmd2RNlF09Msuu4wdE9XatWtHa+CJoqO3bt2aHQezT06aK31sp2CXCevUqRPb71qfPn3YftjVV19Na+Dp3bs3Ow72xBNP0FzZ5b777mO3BzZkyBCaiyeKjr7vvvuy46KafeGhNfBwY1yrjI5uXzxZHR3222+/OVr6zz//vDVUVX+6VwJ7Z9GUH+/dKx3sg0FT2UX6Prnapl9++YWm/NgnLE0pJrhfCPg1BPCZOrqiFCDST/9UtrGdHXOqoytKEVDhIRx3d6f/FUXJQyp75/bijnNHq6NH5H//+x9NFQdr166lKaUYcB1eHb0SlJSUOJk5OVu0aJF1zTXXWCtXrqxglclKigdf3DJhkO4gYZqsatWqVqtWrVjr2rUrrYEHY7l1wpYvX85+H/THCWQ1bntgGtxSObbexblfAfQUPy3sA8/KAq5JFKK8VqNGDXYcTFput27daAk8yG7KjYM1atSozHY4mjOzYNncOmEdOnRg+2HHHHMMLSHznHHGGew6YZA3JYpZXgOcvAbzSmwI6/VKbLAff/pJ5bU4efnll2kqHKNHj6ap/AAvnsSVYUZJH+nvd3zmfr7dttvqT/d8xdVAFUVy6FSk+fRsUpQiwuTs6uiKUsCYHHtrv/0/ptXRFaWISHV8TLstdfSYMUXMARQHLDT+8Y9/0JSSTQLv3CmwfXh8T9OVJmqY6vjx46mVOdq1a2e99dZb1PITJUwVVURNQGM27YvNmzc7udJ22mkn6ikHwTCffvqptccee1CPn3fffZemMov0fXBs99tvP2r5wTsFVapUoVY5CKv85z//yX5WGdq3b++Es5qQ9kWUMFV817C19SSwPZkIU03F5Fc4z1LBfO68Wz+zO9JGdfRyk5ZbtWpVtt81SbNu3LgxrT3zSDq6VE0VtvPOO7P9sFtvvZXWkD6qo5ebV0d3cfVzr0l6OtI/Q1PXn+5KxlCNPTd4fx2g7e1TR1eUAkH6uW/CHaOOrihFgHRXx//q6IpSBHgd3Ys6egLZ7HlKmynWrFlDU0pcSA7NfYY+x/A0j/oqTVR5LS7ZKC55DVLJI488Qq1yIAdBJvv999+ppyLYD8jIasqqivfZTU43YMAAJ9z0888/p55yUEYYWUYlECbLyUaoy4b6aKbQT2wTJDJum/F9kbbZdLJhu/r06WM1bNiQesrBRcCUyRXb9OKLLxr3I0A4sIko8hpkvTg488wzMy6vuZj8C/3ez7b22f+kTRR5LVdEkdckJLkQ8lrYUNPS0tKykpISdrmwpUuX0px+Pv74Y3aMa/ZFgu2H9ezZk5biB99FktekfSxJlLC2bduy/bA45bVcwW2rayZ5LZVUeS3VUmU2GKQ2mP50j4j0wgsIG2qKX024spv48ssvacqP9FkQe++9N035ybewWcWP95eC21ZHV5QEoI6uKAWI6W989HN3dXV0RUkA6uiKUqCkc1dXR4+IVEH0yCOPpKnCoUmTJjTFU4jfSbGdH4/qabrSBOno0C7zDSkuPEhHf+KJJ5xKrd4wyoMOOsipWorKpt6ywJgXVUARunn//fdbu+yyC32yhVq1alk33HCD0bHwrsFf//pXavm57LLLrHPOOYdaFbnvvvusW2+9lVp++vbta3Xp0oVa5SCc9oADDrD69+/PavDHH3+8NXbsWGvevHk+nX3p0qXW1KlTnYqqHNDIe/XqZXXv3p16ysFY7EdT/TXcnUyVZYGko4NCOx+DdHQvJhdG/9bP4OjpEqSjF5oF6ej169dnx8FGjx5Nc/lZsWKFWIn19ttvpzn9BGnhL774Is3p5/nnn2fHuDZjxgya08+9997LjnFt/fr1NKefCy+8kB0Dq1mzJs3FE1eYaiFaZXT0VDg9HYbwVRj0dP3pXgmk6qMbmdrmLjVq1LDee+89avlBkYZcgKIIJry/WrzssMMONOWnevXqNKVkE+lvdRd1dEUpcuDw6uiKUgQE3dXV0RWlyNE7eiXBk2gT1apVoyk/qLQqPfHFk2gTpog3lx133JGm/EifgaBlS0gRgkFIT5ql5xW5epZRaJju6iCUvIaQw0mTJlGr8DnuuOOsI444glp+5s+fb911110+x9x///0diezJJ5/0SUOQ2xBKumrVKuuFF17wORf095NOOsn6z3/+4zuR8fCvU6dOTvjmhx9+SL3l1K9f3xozZgy1eFAR9YsvvqBWOS1atLAuvfRSavk599xzrWXLllHLzz777OPIhghJTeXf//63U2vOFOSDfdezZ09n2jsWUiOysULC9Oadw34777zzrI4dO1KPH1xA3n77bWoVPkOHDnXCm8PCujQcXQnPlClTKkgjqXbqqafSXDz2xYMdB+vatSvNlV3sCzi7Pa5JYar2xYnthwWFqb722mu0BUpUOKlNf7pHBC8PmXjllVdoioe7W7t8/fXXNJUM8MtHyQzcT3h1dEUpQrzOro6uKAlAHV1RipTUu7o6upIXSM86lPC4zq6OHpG6detaDRo0oFY5kJAuuugiavF06NCBlY2aNWvmZFNNGpLOroQHzh5KR//ss8+s3r17G0MSJRo3bmx98skn1KoINFNTUAW0Y+jKQckYTdx5553WQw89ZC1fvpx6tgAnRWrls88+m3r8XHXVVdYDDzxArXJ23313a8qUKU51Urwckwp046pVqzrzSHAVVfGeghTnDrA92C4OvOBjemqPqrMIuzUBLfumm26ilh+cLtxTXYCU2v369WNj1i+44ALxZRscX6So5kDCSlOJabwXgFTRYRk5cqQ1efJkalVEOlel/YCL/MyZM53vxIEwVOxjhPV6QSgwwpNxE8gocPR0sZ3Gp4Om2vbbb8/2wySttVatWmy/a1J4ZRDdunVjlwlDeKWEpAGPGDGC5sou0Nm57YG1atWK7XdtyZIltBQ/UXT0G264gZbi55lnnmHHuCalez7kkEPYftfsCwitJX1sp2SXCZPO1R133JHtdw3vSJiwb5Rl1apVY8fBpk+fTnNmjlA/3e1xNFU4SDWw169fT1PpU4j7wlS8IU7siw9NZR4Uncg3pPMCn0mhz2F/tUro3+iKkgDU0RUlAaijK0oCCOXou+22G01ll2+++Yam0geJHE0gCi0spaWlNJVdgp7mS0hhn1GOraaSKkfajyhCKR2/OJ45hJLXwG233WaUPDZv3mzcWGQQRZijFzgMaob9/PPP1OMHoaDQnbmHFRgLTZsDUhUynL7//vu+HG8IB4Q8JsWNQzYygfWef/751CoH0suxxx4bW3rklStXOtleN23aRD3lIDzVJO0gXxzCcu+9916flImTExlVb7/9dp9c6ALZkHuYh0qpUvgrqqEi/NIEJFuuCiuAjItQVhOoXModA5dp06Y5+8vL2rVrHcnPdOHDNpvy6+Ecr1OnjrPPvBc45ArEd0VmW292YEjIyISLsFoujBjHDaHCGQeOni+MGjXKkRdMZjsk2w9r1qwZ2+8asqqGRZLXUK2T64fZJwItIb/o3bs3u732RS9SZVkJ21nZdboWRV575513aC1+kC2XG+PaPvvsw/bDpGMLeU2qlDty5Eh2HAzncbbJq7/RpatyVLxX1mxg+sWTa0y1xrGPuDtfIbNu3TqayjxSdVm89GRCqpIbF/owTlESgDq6oiQAdXRFSQB55ejcE+RCpywPX5HFE2MT+fg6qRKdvDqqyJrarVs3J+qLM8D1w6TPYIjYgjzHGaQ9rh8GIN9wy4QBrh+GSC5ThFMmwPvS3u2V3qF2GTZsmCMJebe3efPmjrSDB3Le5UIWNUVypQL50jt29uzZjmTnXV+qudF+nOHCxPW7JgE5FhIZNw6GCzHXD8N34fphQfEC0vfJycUfj94LnTlz5pQ9+OCDFSQMrzVp0oTth7Vr147th3Xu3JnWkh7IvBknN910E7u9sPHjx9Nc6TN37lx2mbAhQ4bQXDzPPvts2U477cSODcoCG5e8JgF5TIpeC5LXJAYNGsSOgzVs2JDmyh5F8TtNetklKsjkGuaNvDjv5ODVV1+lKT/SZ0EsWLCApvxguVK2Vrx8smHDBmrlP5I8VmwUzR9kpreqMgHeqksKVapUoSk/H3/8caRXb5XcoU9eFCUBqKMrSgJQR1eUBFA0jo7oqSQR1zsHUiXWXr16WT/88AO1/KAAYy6Iknqpdu3aNJUeUUKbc0HoMFUJZMBEZU0OZD1t1KgRtcrBU+oePXo4IZQmkMEVeqy34iY0TVTcRNghF/oH8OTcdHAQ7inFaCOkMygraxgQ9IJqrFxoLoIxuAdfmBfaNMI6pRP8jTfeoCk/c+fOtR599FHfizO77LKLNXz4cGc/e+vC4fhgH+CzDz74wPr111/pky1g33bu3NkJ2+Vy8KFPitFGNVZTRVtktDWVrkYW3z/96U/U4hk3bhyrnCCEuEuXLtZLL73EattQEdq3b0+tikCfl84JKEHSi0nS8YkFOHqmCZsF9qCDDqIl8PTv358dB7MvEDRX+gwdOpRdpmurV6+mOTPLJZdcwq4PVq9ePbbftZYtW7L9sBNOOIHWwHP44Yez42CXXnopzcVz2GGHseNgd9xxB82VP8yaNYvdVtdWrVpFc2YW1dEFcKeSkJJSSJ8FIdVGj5Mo2xyFKPsRv8hM5CIUOAjvLw8vpjoCxYY+jFOUBKCOrigJQB1dURJAxh0dUTuFhlTFBcyfP5+mCoMo79kH/Y0uvWoc9/v9YQiq0oqEoXGQb+G+schrI0aMsJ588klqVQQZMk0ZRs855xzr73//u7Vs2TLqKWfx4sWOtGYKqthhhx2ssWPHOpVIOSAL1atXj1oVueaaa8RgjpNPPtkpTsgtG9vKpZLGBc+0LS6nn3668URDcIj0jj2kMIRRek8oSI2jRo1yNG8T2A8mp8RnyN3n3Xb3+6AII4JbvEUcEQqKQpWQnLzyJx54NW3alFpmsC+5h2PSsQPS5whckZz5xBNPdAoaer8v9r20ziCQ5fWSSy5hH1AOHDjQ+tvf/katLOE8e88jGjdu7JMjXGvTpg3bD7MPFNvvWtgwVVhJSQnbD5PkQhRClBgwYAA7DmafZGy/a8OGDaOlpE+jRo3YZcLsk57th2H/Szz00EPsOFiPHj1oLp4bb7yRHQcLClO1LyJsP0zKHAyTssDGUewwV+TV7wskPKhMcoNC4c0336SpzIOc8dkGySe8d+tU8KvLxDvvvENTPN4XdPIB6fsUGvowTlESgDq6oiQAdXRFSQDq6IqSAPLK0SG9wYqFIEkpSsmmsOGVUUDUoRTlF6XaLaLQ8g0uCq9QiUVHjwKevH/00UfUKmfFihXWxIkTjdoynGbvvfemlh+kMu7duze1KgINvWXLltQqB+sEd999tzG9L/RohMgiVXUq2K3QZ++66y42WSPiyVevXm10HGjkxx9/PPt0HU5+yCGHUCt9WrVqRVN+oGMjdNO7XoRcIvhnxowZ1tNPP0295eD74P0ISfsPejllzpw5vmq3wBTa7AKlpnHjxtQqB8cPIdNS/TUEUiEFMwe+U0lJifOOhhfsD9NLMTVr1rTuueee/Mo1CEcvFExVQGFBOvq0adNoKekjpSoePnw4zeXHviOwY1yTNGto3XEh6egDBw6kuXjsCxM7DialR7ZPflpCdrnlllvY7XEtSjVVrt+1yZMn0xbkB4n5Gz2OxBFBoBZ2WLRiSmbYb7/9aCq7cL9McomeTYqSANTRFSUBqKMrSgJIjKPH9TevlDUVyQXDElTELwrSsqXvU4hwT8yTSCzyGuQMBDF4QyGR1fSoo46iVvog86YpBxjCASE7cQcWIYgI24TcUq1aNerdAiSU+vXri3LVgw8+aD322GPUKgffB2GbpsynqNsmZftEKCpSJHu3GfsNIbtSqGkQs2bNYp0WchH2w9SpU32ZTxH6eu2114oPLqX8et9//72zfBPI9BqWpUuXbpU7vZgy/OL7Qya88MILra+++op6y8GxhyxruhgggAdSGfc5jp2ks+M8nzBhArXyADh6pmnevHkFqSHVbIehudJHkteCQiiR3ZQbB7OdleZKHyk0s2rVqmy/a2PHjqWlZBbb4crsE59dJ+zjjz+mOdNHktekkN0o8prtpOwyXZPCVCX5E1V4pWqqffv2pTn9oBIrN8a1iRMn0pz5QSy/Z5csWUJTfnD3i4MgKUu6s0YJkYzyfeIqeICMONJbaoUm3X333Xc0lT6mPP8gqAqvJM0h/30hoQ/jFCUBqKMrSgJQR1eUBKCOrigJIOOOjqybElI1ziAOP/xwmvITVFbppJNOYqOJoCmHLcn0+uuviw97gmjSpAlNZRZIXN27d6dWRZD1FDJYWCBxhgFZdMOCEFbIXGGADGYi6FyVgHQnfaco0YVxEEpHR67ss846i30aivA96JOmdMI4CaGzc09+kVLY9DIHUu8+8cQTztNkb5VKfIWgoBVontDaf/zxR+rZQt26dZ0ABISwmp6gm7YL21G9enXx4tW3b19nX3nBuKCTF+mT33vvPWpVZNddd2VTCWM7kb4asfDcPpbCPQHSaWObuXzouFjecsstThgxtz8+//xzNq4coa+4qEHPRigqx1577WXcj8OGDbP69OnjhDB7WbRokTVmzBhj3T6864D9xO0LHD9cCEyKDTT4yZMnU4sHCpNXZ0fVWNwALr74YvYY4XwzvZiE44N3IDIOHD1doBFiqMnsk4Dth0laa61atdh+16Jo8BIPP/wwuz7X7IsT2w+Tvg909LDYJxC7TNekaqr2XZuWkj733HMPu0zXSktLac70sC/Q7PJca9u2LdsPa926NS2FR0rpHCXd8+WXX05rSJ/Bgwezy4TZNxe237XnnnuOlpI5Qv10995Rs4W9vTSVWXL1fSSiaN1R9lPQvgj7iqzpl1qxEuWciuM8D382KYpSMKijK0oCUEdXlAQQytER5ZQL3n33XZrKLKbkgFGJsp+KqRwQiJJWK2g/5up8lOCetleWKlWq0FTmCB2mCgnHVBUVDyK4h0kICVy4cKG17777Uk9FIH15w0hTQdggwje94EEP5BdITiYgCX3wwQe+A4DABVQC/de//sXKNwChsaadb8pACk444QTr1FNPpRbPtGnTfNIQ9itMcnZUMz3ggAOo5Wfu3Lk0lR6Q1kz7AUD6gWQVhilTphjlws8++4wtyYxjC5mxtLTUmccL5Lw999zTCSXmSnabJD+A8xHf1ZStFRl6X3rpJWr5wbnM3Xxw7HA+1apVi3oqgvMJxw43GO9FCtmEL7/8cmplEDh6NpEqiAbJa5JU0qtXL1oDz9ChQ9lxsNGjR9Nc2eXqq69mtwcWVE1VktfsCwytIX0mTZrELtM1+ySlObPH0qVL2W1xLWzYbVCYapC8JklzHTt2ZPth9oWHlpA9sv43Ol4miIOgUEapmid3p8gGyOuuBCPlZQdBn5sIClOVwEsvYY+f6WWyONGHcYqSANTRFSUBqKMrSgJIjKNzyQNd4npuoGQH1GbLNqYkpflKYhy9ffv2NOWnTZs2NJU58vH9+VTKDKqqSTLNJVxRRy8IGQ7DKaecQlMVgbSGIpkmEH1oCgUOAvs+SohsKJxn71nk4osvdjKJcgapA9k1IeF4Df2QjbhxMEhvQSxatMi33M8//5w+Dce8efOcjKvcNl1wwQU0F8+5557LjoM1bNhQ3BeQb7hxsOOOO47WwDNy5Eh2HKxdu3Zsv2tr166lpWSW6dOns+uDHXLIIWy/a8gCy/XDcF5w/bBTTz3VWfe6det8+3jjxo3OZ0Fgf3jH4vh069aNXSesTp06bD/s8MMPj2UfZ93RL7vsMp+u6Frt2rVpLh4p3TNO0Fxw/fXXs9sDQ5iqfWenOf1I7xQEVVPt2rUrOw4WpKNL1VQl/ReGEzkOzjjjDHZ9MDg61++alO45KEx1xYoVtAWZpV+/fuz6YEFhqs888wwtJXPow7iI2PuQpnjCaqZRwlSVyhM27DYI6S3NIOLQ2fVsUpQEoI6uKAlAHV1REkDeObokk0gZPfMV6fsgIaKJvffem6bSB8k5JcJKf5CU4vqbVtoXcRJHSCjI1fcxESpM1Q3DQ5hfKog5bt26tVGbBFIgARwZlU25l1sQpojQS8kBJKdCNU5sMzKSekEIqyk975FHHmmddtpp1PKDUNRfDS9PwKEQjsh9H9RdQ5bQO+64w/r555+pdwvYjz169HD2hQlpPyKb6mGHHeZbL/YheP/9940x+Mj+iu+L0M9U8ICobdu2zkXk5Zdfpt5yMD+ytUogiy9XURWhwgMGDLAmTZrE7ktTtVQXKWQXWWIRhsyB9OHHHXcctXjGjx/PZqfFeWSKsa9Ro4Z1ySWXWHfeeacvLHrNmjVOZVcpIAbHNuM6Oxw9XWbPnl1BDvDaypUraU4/krwWFKaKiqlcPyxIXuvSpQs7DoaxXL9rkq553XXXsWNgkNe4fteQfTYskrzWqlUrtt+1Aw88kO2H/eUvf6E18KAqKjcOJlUQtZ2FHeNaHJJSVO6++252W2H2Lxu23zW8F2AC2Yy5Ma49++yzNGfmCPXTPeiVw7iqhEYhbCgjQEhiHHhzzOcDQdlapP0o1QsP2of5uC/cX0BhkPYFfm1lG30YpygJQB1dURKAOrqiJIBQju6tNeUF9ahM5CKNTlSC5KpiwqsAJJlieg15u9EhnuNDNoK8gIJ8eKfXtVatWln9+/d3MrKa2HnnnZ38bbhYpI6FYZmIDff2u4YHRZgH/3sN2WPPP/98WosfyDYffvghu1xIQ3Bm7jNITchCauKFF16wli1bxm6T+x25z2Co4grJSgL7GBJNqkH7xX5ARlXv9rpm2k8wyELIfMp9hv2IzKnIbJu6TkiXDz30kCNXYfncWBRS7Ny5M215RZYvX+7Ia9w4GEKFw1a1BZAFkU03dZtx0cK2hgXvDbz11lvOzSl138JM+881SHem0GicL8888ww7DoaKtSZJMDT09D3vQegfwgqxyZzlKnotiryGgoYmbEc1RmUhnNc+sWlOP0FFMCV5LSh6DaGUXD/shhtuoC3w891337FjXIsiNV5xxRXsMmG33XYbzZVZcD5y63NNkhptR2fHuJY38louwA8PU/7tYgQSpulPoG+//bboCjxE4Y033qApP3EV/Rg+fDhNFQb6MK4IQREARUlFHV1REoA6uqIkAHV0JS/AU3MlPgrK0aUIpjp16tBU4WAqwlcZVqxYQVN+chVrgCi0XAAp0UQhhjbHQehqqhJTp041VqHEE2NTNdXevXuLIaEAWqz34KHiJsZKYHseeOABX2ghxg4aNCh0yme8M4AwSg7sWoTtItTVC8JtTZozQCio9IoDdGIutBbx4kOGDHHeGzBt1/fff2+VlJRQqyJ4x0HS9vG+AffCFCqsImTXBPT3Cy+8kFp+ELbJ7SeAMFFTfDcq7EL3N1XhxXfFfsL7GxzYT1xMOt7nuO6664zrxf7v2rUrtfw0atTIOd84go5tly5d8iNMNQjbeXzaoGudOnVi+2H169enJWSec845h10nDKGzYQnS0cOCCqHcMl2TqqnaF0taSv4QpKPbFxe2HxZnFlipIuqoUaNo6/3YNxt2jGuqowvE+TNLei03qBJroYG7nBKdYtqP+jBOURKAOrqiJAB1dEVJABl3dEnqyCUNGzakKT+mJ9CVAU/t8w1T0kIlcwSFLkvnRVAW3jjCY2OR166//npjBUzIHKaHHP369XOkrjiYMWOGddVVV/myyCKTLbKPStlAIVPNmzfPl2kUIaQtW7a0Bg4c6Mg4XpDJ9fLLL6dWeiAYQwq7xcmCkEavU0P6uvLKK50TDZKXF4RYmjLeuiD81cvKlSsdfV6qSisBee3MM8+klh88iDUFLUECQyix6QKGcFTsCw44jcmxcFNCbjdTfgWEmk6bNo1afsaMGeOEKXvB+xEPPvig9eWXX/oeMMPdIOUOHTqU3c+4IU2fPp1aGQSOrsigMiZ2FWevvPIKzZVZguS1YcOG0Zx+SktLy5o0acKOg3366ac0px9IO9wYWK9evWiu9IkiryGr7Zw5c2hJmQOhpgj55dYJsy/SNGf63HHHHewyYX/+859pruyhf6NXAinU8bXXXqOp7HLsscfSlJ+3337bsi8U1PJjH3ea8mN6yQbMnDkzJ5IT7uRSHvuwZPyllBQ++eQTmvLzwQcf0FT2UEdXlASgjq4oCUAdXVESgDq6ohiQqq0UGurolaB79+40VRFIawcffDC1MgtCPqWCknXr1qUpP1IkWadOncQCf4ja8hZYdDnvvPNCl06ChKnkjlA6OrRnaIjFQq9evQKf6uLpujec8ffff7c6dOhALR482Z09eza1ykGo7pQpUxxd2wSq1n7xxRfUKgdjkYb4qaee8iVswAUCob4Ik+TqnR111FGOxjt58mTqKQda9I033uhcvBYuXEi9W4DmDB1devEIaYxRIdZbnw1jkYpZwhQu6iIlw3z88cetWbNmOeGqqSBl9emnny6+I9GsWTOa8gN9Hcbp9926dbOuuOIKavnp2bOnsz9MZD25Jxw9XVAtFUOLxcaNG0ffLLPYJzy7Ptfuv/9+mjN9UPWUWyasX79+NBePfRFgx8EGDx5Mc6XPyJEj2WXCatSowfa7JunorVu3pjXw2BcfdhzMdjiai0fS0aWQalRT3bx5My3Fz6BBg9hxMGxvttGf7jFieuPKBb8IwoK7vQlv3fp0iLJNUcZGQXqFOc5XlAup6pA6uqIkAHV0RUkA6uiKkgDU0WMET8YlJJkrCCmDbJTsslGqqZoSMMYNkkeaiLMiKgpPmpD2RS5Ki4WS1yDp1K5dm1p+4ghAiIp0UMaNG2eNGDGCWumDDLNeSQmgJpgUwADZBlIYlyYZD9RMOjrCZZHn7tVXX/Wd5MhaiuyyUjZdKctraWmpo5ebUjdLWWBRTRc1ybAML9hO6SLy9ddf+8KAU0F2WhPY/88995zvASW+A0KF27VrRz1+pH2BAB8pxTgy/OJz777CMYC8CQka2WJTwQO8vn37WieffDL1ZAnn2XuaBMlr+Yh98WG3FRZFXps6dSq7TFhQNdUOHTqw/bB69eqx/a7ZFxDagvSR5LUo1VSnTZtGa/CDjKrcGNeiyGtRkOQ16ZyBvMb1u/bkk0/SGvID/ekeESRkyAVRfvbHhVRtRcrpXoygfkE+oY6uKAlAHV1REoA6uqIkAHX0BBKUhVQpPtTRC5CaNWtaTZs2pVZ6xJknDVlTTWCbIUeFAdFvcWx3nPsCUp8k6WabWHR0aZHDhg2zHn74YWpljgMPPFB8QeWYY44x7vgoOjrSOZtSAmM/HHHEEdaAAQMcjdkLnpyHKXEMfV0KmEF46oknnmhMUIhAD1Odu0MPPdQaPHgwu73AlJYZIaZ77LEHtcxwT6PvueceRyc3hW5Co5fi4BE/v2bNGmpVBOW0v/rqK2r5wXsBppdqsA9Mx+7uu++27r33Xmr5wfmIdwM4UPGWCyEGCBF+/vnnM/9SDRw9XaLo6Khcyo2Jau3ataM18MSlo8dVTTUK9onCbo9r9knI9sMGDhxIS8kuZ5xxBrs9sFxVU5XSPSPNNzfGNel9hLp167L9rhV9NVVFKRSCEo7kG+roipIA1NEVJQGooytKAlBHjwiyppqoXr06TSlBSPsxaZgKRkYhJ/La+PHjqZU5EIoYl7y2ZMkS68UXX/S9aAJHvuCCC5zMqZy8g+yj6Ed2Um8mUchqZ599NrUyy7XXXivWhMM2mVI6gzlz5tCUnwULFjjL5o4xwnI7duxIrXIgXyH9tFTFFWGsEyZMYGu7QZJD5lsTOB9NYbVLly41puTGuOXLl4tSlmlfIPz0lFNOoZYf1L5r0qQJtSqCjLjIplutWjXfBQ5pvGMJAIKjp0vS5DVJvrnllltoLp4WLVqw42CPPPIIzZVZ4pTX6tSpw46DSVlTDz30UFpC/oAKrVKYqiSvbdiwgR3jmiSvNWjQgJaSPfSneyWQMq5K2U1w5ZYSTxRiJZCw4bHSPswVuUqQkovsseroipIA1NEVJQGooytKAlBHjxEEgNSvX59aflBvTMlftJpqwigrK3MijjhDCKUJfN67d2+rRYsWvnFdunSxGjRoQHOaQZST14JKLqE0knd9qQaZkOuHVSZWnRsHk5aLfZhLuP2IMFXp2K5du9aZhxsLCZMb45q0XBT1NG1TbNgblDZJk9ekAoHDhw+nuTLL/PnzjYUUzz777LLFixfTnH7ilNekLLCSvFazZk1aQnZZsWKFGC0mRa9FyQJ7zTXXOPKdF/si7Pzfvn17dtxBBx1Utnr1ameeTKJ39DwFd+3p06dTqyJTp07NWfbZQmPevHnWl19+Sa3sYd8cWPkOL07hZRrTy10otWxf5KmVOdTR8xQkLpAopEqeuSQf91NQld04tlkdXVESgDq6oiQAdXRFSQDq6BHhCgpmAklqwd94hx12GLX8SNFnQUjJKuPMmhoXKHio5CBM9a677qKpzDNo0CCa8hMlTLVTp0405QchlM2bN3eesnqBno2MqyY++ugjNnQTYZ19+vRxMp8ijNLLrrvuah155JFO9lTugoAnusicagKhkHjY591mxEEjdHbs2LG+4BWEZSJIZ9WqVcasqVJIKJg7dy5N+YGKcOutt7JhqlK2XKxvyJAh1OJ56qmnjLXQ8FKMKRYe56rpQoH3J7yhx6mgdPWjjz5KrYqgCi72sQm8YzFy5EhqZQg4erpE0dFzRVw6urTcKNVUjzjiCFo7T8+ePdlxsFatWrH9rs2YMYOW4gcVUbkxrsWlo59//vnsOFhQFtgFCxbQUjLLFVdcwa4PFqSjT5w4kZbiZ9myZewY1zQLbILw1tX2EvS5BHK3m5BqmMdJlO9jylEfFSk5R6Ghjq4oCUAdXVESgDq6oiQAdfQ8JSiKrNhegY3yfcpyHBnHYVImgBTxCOI4trHIa1F03LgYM2ZMaHlNeu8cEhWyqnIHB84qHVRkATUVD8TybrrpJlYvh9SEQnyQaCDhpYLDWbVqVTGWGnKTSYdH+OUDDzxALT9YvulELCkpsdatW8d+3r9/f+uss85iH5xBWoN0d+WVV7KfI7TT9F4Bvsdjjz3mBINw64UciEquHMjEKoGMxTNnzqRWRbAf8D4Dt05krEUhUciCkEJT+eabb5zjd/PNNzuFJb00atTIevrpp437ODRw9HQJktcKzaLIawgl5cIRAUIVuTGuSfJavXr12H5Y9erVnfBLE5B2uHGuLV26lOb0M2nSJHaMa5K8dt555xn3hX1zcEIwuXHIshslNPPiiy9mlwuTiiwGZaa98cYb2XEwyGs4viamTJnCjoPZFzSaK3voT/eI7L///sZsoiipHAd4G+/TTz+lVv6ARBqmfYGfsrjrciBvPl4iCct7771HU+mxaNEi44s0lUF6U1AKNX388cdpKnuooxchQSGuSvJQR1eUBKCOrigJQB1dURKAOnolkCKyEAlmAjKXlO45CqaigkD6DBFqXKSdywEHHEBT6VOnTh2a8oMoPFMUYPv27SO9Vx4kk5nAfoAkaEL6PqYCii7ScT/ppJNoKnuE0tGBVHOs0EA1Ta/emQryr3PVSTFGCmEF0HHff/99VhdFXTakgubA/jWFSOIdBikeHSxcuJBNIAmdNijNNBIqpnt8UVkWDisBjfyVV16hVjm4ICKMOAovvPAC+5LR4sWLrWbNmlGrIk2bNhWdGSDk15tzAC6D6r177LEH9fDg4vbJJ59QawtVqlRxbg716tWjnuwQ2tEVRSkc9Ke7oiQAdXRFSQDq6IqSANTRFSUBqKMrSgJQR1eUBKCOrigJQB1dURKAOrqiJAB1dEVJAOroipIA1NEVJQGooytKAlBHV5Six7L+H68Q3p7rMuNvAAAAAElFTkSuQmCC)\n"
      ]
    },
    {
      "cell_type": "markdown",
      "metadata": {
        "id": "a537Fx5Pf1zN"
      },
      "source": [
        "## Install geopack ([details here](https://pypi.org/project/geopack/))\n",
        "\n",
        "Uses models developed by N. A. Tsyganenko (1989, 1996, 2001, 2004)\n",
        "Originally written in Fortran 77: [link to the Fortran library](https://ccmc.gsfc.nasa.gov/models/modelinfo.php?model=Tsyganenko%20Magnetic%20Field)"
      ]
    },
    {
      "cell_type": "code",
      "metadata": {
        "colab": {
          "base_uri": "https://localhost:8080/"
        },
        "id": "DK_Z1BiKfr7t",
        "outputId": "4883b274-ba28-473d-9590-d137b9a5e241"
      },
      "source": [
        "!pip install geopack"
      ],
      "execution_count": 27,
      "outputs": [
        {
          "output_type": "stream",
          "name": "stdout",
          "text": [
            "Requirement already satisfied: geopack in /usr/local/lib/python3.7/dist-packages (1.0.8)\n"
          ]
        }
      ]
    },
    {
      "cell_type": "code",
      "metadata": {
        "id": "H3-e8s-q4rG9"
      },
      "source": [
        "from IPython.display import clear_output"
      ],
      "execution_count": 28,
      "outputs": []
    },
    {
      "cell_type": "markdown",
      "metadata": {
        "id": "rjSp8Ua7gsyf"
      },
      "source": [
        "## Import the required package and call the functions"
      ]
    },
    {
      "cell_type": "code",
      "metadata": {
        "colab": {
          "base_uri": "https://localhost:8080/"
        },
        "id": "XcggocJngsRq",
        "outputId": "5de4c0c5-2876-4554-e8f9-55dfb7f87bcd"
      },
      "source": [
        "import geopack\n",
        "from geopack import geopack\n",
        "from geopack.t96 import t96 # other models which can be used: t89, t01, t04\n",
        "import numpy as np\n",
        "from dateutil import parser\n",
        "import datetime\n",
        "import matplotlib.pyplot as plt\n",
        "import matplotlib as mpl"
      ],
      "execution_count": 7,
      "outputs": [
        {
          "output_type": "stream",
          "name": "stdout",
          "text": [
            "Load IGRF coefficients ...\n"
          ]
        }
      ]
    },
    {
      "cell_type": "markdown",
      "metadata": {
        "id": "T_eIzkIv2rgM"
      },
      "source": [
        "## Install all Latex dependencies"
      ]
    },
    {
      "cell_type": "code",
      "metadata": {
        "colab": {
          "base_uri": "https://localhost:8080/"
        },
        "id": "N1R5s7v0yWRm",
        "outputId": "1a975b27-1603-485b-dd26-487e35d484c7"
      },
      "source": [
        "%%time\n",
        "!sudo apt-get install aptitude\n",
        "!sudo aptitude install texlive-fonts-recommended texlive-fonts-extra\n",
        "!pip install tex\n",
        "!sudo apt-get -y install texlive-full\n",
        "!sudo apt-get install dvipng\n",
        "!sudo apt-get install --fix-missing\n",
        "!sudo apt-get update\n",
        "clear_output()"
      ],
      "execution_count": 4,
      "outputs": [
        {
          "output_type": "stream",
          "name": "stdout",
          "text": [
            "CPU times: user 297 ms, sys: 94.5 ms, total: 392 ms\n",
            "Wall time: 22.1 s\n"
          ]
        }
      ]
    },
    {
      "cell_type": "code",
      "metadata": {
        "id": "QwMOHCRXye8u"
      },
      "source": [
        "font = { 'family' : 'Times New Roman', 'weight' : 'normal', 'size' : 10 }\n",
        "plt.rc( 'font', **font )\n",
        "plt.rc('text', usetex=True)"
      ],
      "execution_count": 8,
      "outputs": []
    },
    {
      "cell_type": "code",
      "metadata": {
        "id": "lAzFADRBg1oi"
      },
      "source": [
        "geopack?"
      ],
      "execution_count": 9,
      "outputs": []
    },
    {
      "cell_type": "code",
      "metadata": {
        "id": "PKRkMfrpf3pJ"
      },
      "source": [
        "# Define time\n",
        "time = '2016-12-24 15:08'"
      ],
      "execution_count": 10,
      "outputs": []
    },
    {
      "cell_type": "code",
      "metadata": {
        "colab": {
          "base_uri": "https://localhost:8080/"
        },
        "id": "z7jMPWejhtZ7",
        "outputId": "7466e2eb-69a1-40fd-acc0-e448bb8cf846"
      },
      "source": [
        "time_utc = parser.parse(time)\n",
        "time_unix = time_utc.timestamp()\n",
        "time_unix"
      ],
      "execution_count": 11,
      "outputs": [
        {
          "output_type": "execute_result",
          "data": {
            "text/plain": [
              "1482592080.0"
            ]
          },
          "metadata": {},
          "execution_count": 11
        }
      ]
    },
    {
      "cell_type": "code",
      "metadata": {
        "id": "zcxzhvkah3Ux"
      },
      "source": [
        "# Compute the field components under the assumption of dipole\n",
        "xgsm,ygsm,zgsm = [1,2,3] # in radius of earth units\n",
        "ps = geopack.recalc(time_unix) # dipole tilt angle of the earth\n",
        "\n",
        "# Compute the dipole field\n",
        "b0xgsm,b0ygsm,b0zgsm = geopack.dip(xgsm,ygsm,zgsm)"
      ],
      "execution_count": 12,
      "outputs": []
    },
    {
      "cell_type": "code",
      "metadata": {
        "colab": {
          "base_uri": "https://localhost:8080/"
        },
        "id": "iMH8cUn4h4gh",
        "outputId": "5c747d06-83d1-423d-8d05-2998e75e469b"
      },
      "source": [
        "b0xgsm, b0ygsm, b0zgsm"
      ],
      "execution_count": 13,
      "outputs": [
        {
          "output_type": "execute_result",
          "data": {
            "text/plain": [
              "(-467.8721390407777, -646.5015441840932, -418.7106595944902)"
            ]
          },
          "metadata": {},
          "execution_count": 13
        }
      ]
    },
    {
      "cell_type": "markdown",
      "metadata": {
        "id": "jurW3gcslka6"
      },
      "source": [
        "#### The magnetospheric magnetic field is a combination of internal magnetic field, comuted using IGRF model, and external magnetic field, computed using T96 model in Geopack.\n",
        "$R_E$\n",
        "Way to call the two models and inputs required:\n",
        "\n",
        "*   IGRF model:\n",
        "\n",
        "    a) [x, y, z] in GSM coordinate in units of $R_E$\n",
        "\n",
        "    b) Call the model using ```geopack.igrf_gsm(x, y, z)```\n",
        "\n",
        "\n",
        "*   T96 model:\n",
        "\n",
        "    a) Input parameter:\n",
        "\n",
        "       (i) [x, y, z] in GSM coordinate in units of $R_E$.\n",
        "\n",
        "       (ii) Solar wind ram pressure in nPa (```p_dyn```). ($P = m_p \\cdot n_p \\cdot V_p^2 = 1.6726 \\times 10^{-6} \\cdot n_p \\cdot V_p^2$ nPa)\n",
        "\n",
        "       (iii) DST index (```dst```)\n",
        "\n",
        "       (iv) Dipole tilt angle (```ps```)\n",
        "\n",
        "       (v) y- and z-component of IMF ($\\vec{B}_{\\rm{imf}} \\cdot \\hat{y}$, and \n",
        "\n",
        "       $\\vec{B}_{\\rm{imf}} \\cdot \\hat{z}$) (```b_imf_y, b_imf_z```)\n",
        "\n",
        "    b) Define a ```param``` parameter as ```param = [p_dyn, dst, b_imf_y, b_imf_z, 0, 0, 0, 0, 0, 0]``` (the 6 zeros at the end is for some progmatic reasons).\n",
        "\n",
        "    c) Call the model using ```t96(param, ps, x, y, z)```"
      ]
    },
    {
      "cell_type": "code",
      "metadata": {
        "id": "DbYSw8WQsNUP"
      },
      "source": [
        "time = '2016-12-24 15:08'\n",
        "time_utc = parser.parse(time)\n",
        "time_unix = time_utc.timestamp()\n",
        "\n",
        "ps = geopack.recalc(time_unix) # Compute the dipole tilt angle"
      ],
      "execution_count": 14,
      "outputs": []
    },
    {
      "cell_type": "code",
      "metadata": {
        "id": "GDwQkEWytOZm"
      },
      "source": [
        "n_p = 5 # /cm^{-3}\n",
        "v_p = 500 # km/s\n",
        "b_imf_x = -5 # nT\n",
        "b_imf_y = 2 # nT\n",
        "b_imf_z = 1 # nT\n",
        "\n",
        "dst = -20\n",
        "\n",
        "p_dyn = 1.6726e-6 * n_p * v_p**2 # nPa"
      ],
      "execution_count": 15,
      "outputs": []
    },
    {
      "cell_type": "code",
      "metadata": {
        "colab": {
          "base_uri": "https://localhost:8080/"
        },
        "id": "Z6iHcFwsl1fV",
        "outputId": "c51ecab1-18b7-4bf2-958f-fe5b5088f552"
      },
      "source": [
        "%%time\n",
        "n_arr = 160\n",
        "bx_igrf = np.full((n_arr, n_arr), np.nan)\n",
        "by_igrf = np.full((n_arr, n_arr), np.nan)\n",
        "bz_igrf = np.full((n_arr, n_arr), np.nan)\n",
        "\n",
        "bx_t96 = np.full((n_arr, n_arr), np.nan)\n",
        "by_t96 = np.full((n_arr, n_arr), np.nan)\n",
        "bz_t96 = np.full((n_arr, n_arr), np.nan)\n",
        "\n",
        "bx = np.full((n_arr, n_arr), np.nan)\n",
        "by = np.full((n_arr, n_arr), np.nan)\n",
        "bz = np.full((n_arr, n_arr), np.nan)\n",
        "\n",
        "x_arr = 10\n",
        "y_arr = np.linspace(-40, 40, n_arr)\n",
        "z_arr = np.linspace(-40, 40, n_arr)\n",
        "\n",
        "param = [p_dyn, dst, b_imf_y, b_imf_z, 0, 0, 0, 0, 0, 0]\n",
        "\n",
        "for (j,y) in enumerate(y_arr):\n",
        "    for (k,z) in enumerate(z_arr):\n",
        "        bx_igrf[j, k], by_igrf[j, k], bz_igrf[j, k] = geopack.igrf_gsm(x_arr, y, z)\n",
        "        bx_t96[j, k], by_t96[j, k], bz_t96[j, k] = t96(param, ps, x_arr, y, z)\n",
        "\n",
        "        bx[j, k] = bx_t96[j, k] + bx_igrf[j, k]\n",
        "        by[j, k] = by_t96[j, k] + by_igrf[j, k]\n",
        "        bz[j, k] = bz_t96[j, k] + bz_igrf[j, k]"
      ],
      "execution_count": 16,
      "outputs": [
        {
          "output_type": "stream",
          "name": "stdout",
          "text": [
            "CPU times: user 6.02 s, sys: 1.01 ms, total: 6.02 s\n",
            "Wall time: 6.03 s\n"
          ]
        }
      ]
    },
    {
      "cell_type": "code",
      "metadata": {
        "id": "mSSkbnzXt-Gc"
      },
      "source": [
        "from mpl_toolkits.axes_grid1 import make_axes_locatable\n",
        "import matplotlib.patches as patches"
      ],
      "execution_count": 17,
      "outputs": []
    },
    {
      "cell_type": "code",
      "metadata": {
        "colab": {
          "base_uri": "https://localhost:8080/"
        },
        "id": "oejISKdqxEYc",
        "outputId": "093de2ff-6006-4b52-cdd0-6e94d260c586"
      },
      "source": [
        "np.nanmin(bz), np.nanmax(bz)"
      ],
      "execution_count": 24,
      "outputs": [
        {
          "output_type": "execute_result",
          "data": {
            "text/plain": [
              "(-15.487467905203285, 40.93861730604931)"
            ]
          },
          "metadata": {},
          "execution_count": 24
        }
      ]
    },
    {
      "cell_type": "code",
      "metadata": {
        "id": "hbPJDgnDq5CQ"
      },
      "source": [
        "cmap = plt.cm.viridis\n",
        "\n",
        "pad = 0.02\n",
        "clabelpad = 10\n",
        "labelsize = 18\n",
        "ticklabelsize = 15\n",
        "cticklabelsize = 15\n",
        "clabelsize = 15\n",
        "ticklength = 3\n",
        "tickwidth = 1.5\n",
        "ticklength = 6\n",
        "mticklength = 4\n",
        "cticklength = 5\n",
        "mcticklength = 4\n",
        "labelrotation = 0"
      ],
      "execution_count": 19,
      "outputs": []
    },
    {
      "cell_type": "code",
      "metadata": {
        "colab": {
          "base_uri": "https://localhost:8080/",
          "height": 773
        },
        "id": "5PMLNN7zq7rp",
        "outputId": "79a4c74c-3a2e-4c74-8757-d3232aa35a22"
      },
      "source": [
        "# Define the figure\n",
        "fig = plt.figure(num=None, figsize=(3, 3), dpi=200, facecolor='w', edgecolor='gray')\n",
        "fig.subplots_adjust(left=0.01, right=0.95, top=0.99, bottom=0.01, wspace=0.02, hspace=0.)\n",
        "\n",
        "comp = by\n",
        "\n",
        "# Define the colorbar norm\n",
        "norm = mpl.colors.Normalize(vmin=np.nanmin(comp), vmax=np.nanmax(comp))\n",
        "\n",
        "# Define the axes in the figure\n",
        "axs1 = fig.add_subplot(1, 1, 1)\n",
        "\n",
        "im1 = axs1.pcolormesh(y_arr, z_arr, np.transpose(comp), alpha=0.9, shading='auto', cmap=cmap,\n",
        "                      norm=norm)\n",
        "patch = patches.Circle((0, 0), radius=15, transform=axs1.transData)\n",
        "im1.set_clip_path(patch)\n",
        "\n",
        "axs1.set_xlim(-15, 15)\n",
        "axs1.set_ylim(-15, 15)\n",
        "\n",
        "axs1.set_xlabel( r'$\\mathrm{y_{GSM}} ( R_E )$', fontsize=14 )\n",
        "axs1.set_ylabel( r'$\\mathrm{z_{GSM}} ( R_E )$', fontsize=14 )\n",
        "\n",
        "# Create a new axis for colorbar\n",
        "divider1 = make_axes_locatable(axs1)\n",
        "\n",
        "cax1 = divider1.append_axes(\"top\", size=\"5%\", pad=0.01 )\n",
        "cbar1 = plt.colorbar(im1, cax=cax1, orientation='horizontal', ticks=None, fraction=0.05, pad=0.01)\n",
        "\n",
        "cbar1.ax.xaxis.set_label_position('top')\n",
        "cbar1.ax.tick_params(axis='x', direction='in', labeltop=True, labelbottom=False, color='k',top=True,\n",
        "                     bottom=True)"
      ],
      "execution_count": 26,
      "outputs": [
        {
          "output_type": "display_data",
          "data": {
            "image/png": "[encoded data removed]",
            "text/plain": [
              "<Figure size 600x600 with 2 Axes>"
            ]
          },
          "metadata": {}
        }
      ]
    },
    {
      "cell_type": "code",
      "metadata": {
        "colab": {
          "base_uri": "https://localhost:8080/"
        },
        "id": "ZDWghBRGrP1x",
        "outputId": "150963fc-3d47-4898-c7a8-7fba468b9440"
      },
      "source": [
        "np.nanmax(y_arr)"
      ],
      "execution_count": 21,
      "outputs": [
        {
          "output_type": "execute_result",
          "data": {
            "text/plain": [
              "40.0"
            ]
          },
          "metadata": {},
          "execution_count": 21
        }
      ]
    },
    {
      "cell_type": "code",
      "metadata": {
        "id": "FBIWUlds7_Mw"
      },
      "source": [
        ""
      ],
      "execution_count": null,
      "outputs": []
    }
  ]
}